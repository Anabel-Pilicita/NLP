{
 "cells": [
  {
   "cell_type": "markdown",
   "id": "a6f9f5cd",
   "metadata": {},
   "source": [
    "# Instalacion de dependencias"
   ]
  },
  {
   "cell_type": "code",
   "execution_count": 1,
   "id": "ab594585",
   "metadata": {},
   "outputs": [],
   "source": [
    "#pip install happytransformer"
   ]
  },
  {
   "cell_type": "code",
   "execution_count": 1,
   "id": "3ea762b0",
   "metadata": {},
   "outputs": [],
   "source": [
    "import pandas as pd\n",
    "import numpy as np\n",
    "import torch\n",
    "from torch import nn, optim #Pytorch\n",
    "from datasets import load_dataset"
   ]
  },
  {
   "cell_type": "code",
   "execution_count": 2,
   "id": "b44ea733",
   "metadata": {},
   "outputs": [
    {
     "name": "stdout",
     "output_type": "stream",
     "text": [
      "cpu\n"
     ]
    }
   ],
   "source": [
    "RANDOM_SEED = 42\n",
    "BATCH_SIZE = 16\n",
    "np.random.seed(RANDOM_SEED)\n",
    "torch.manual_seed(RANDOM_SEED)\n",
    "device = torch.device(\"cuda:0\" if torch.cuda.is_available() else \"cpu\")\n",
    "print(device)"
   ]
  },
  {
   "cell_type": "markdown",
   "id": "07ad0cd9",
   "metadata": {},
   "source": [
    "## Cargar datos"
   ]
  },
  {
   "cell_type": "code",
   "execution_count": 3,
   "id": "3f0f82a8",
   "metadata": {
    "scrolled": true
   },
   "outputs": [
    {
     "name": "stderr",
     "output_type": "stream",
     "text": [
      "Using custom data configuration default-c2dc502b58cbcb80\n",
      "Reusing dataset csv (C:\\Users\\anabe\\.cache\\huggingface\\datasets\\csv\\default-c2dc502b58cbcb80\\0.0.0\\433e0ccc46f9880962cc2b12065189766fbb2bee57a221866138fb9203c83519)\n",
      "Loading cached split indices for dataset at C:\\Users\\anabe\\.cache\\huggingface\\datasets\\csv\\default-c2dc502b58cbcb80\\0.0.0\\433e0ccc46f9880962cc2b12065189766fbb2bee57a221866138fb9203c83519\\cache-86eef27c27466863.arrow and C:\\Users\\anabe\\.cache\\huggingface\\datasets\\csv\\default-c2dc502b58cbcb80\\0.0.0\\433e0ccc46f9880962cc2b12065189766fbb2bee57a221866138fb9203c83519\\cache-dd84bf939a90360a.arrow\n"
     ]
    }
   ],
   "source": [
    "dataset = load_dataset('csv', data_files=['C:/Users/anabe/Documents/NLP/nueva/APPSTORE/corpus/book4.csv'], split='train')\n",
    "datasets = dataset.train_test_split(test_size=0.20) # Test del 10%"
   ]
  },
  {
   "cell_type": "code",
   "execution_count": 4,
   "id": "09798832",
   "metadata": {
    "scrolled": true
   },
   "outputs": [
    {
     "data": {
      "text/plain": [
       "DatasetDict({\n",
       "    train: Dataset({\n",
       "        features: ['name', 'general', 'descrip'],\n",
       "        num_rows: 2496\n",
       "    })\n",
       "    test: Dataset({\n",
       "        features: ['name', 'general', 'descrip'],\n",
       "        num_rows: 625\n",
       "    })\n",
       "})"
      ]
     },
     "execution_count": 4,
     "metadata": {},
     "output_type": "execute_result"
    }
   ],
   "source": [
    "datasets"
   ]
  },
  {
   "cell_type": "code",
   "execution_count": 5,
   "id": "fa47d820",
   "metadata": {},
   "outputs": [],
   "source": [
    "def etiquetas(examples):\n",
    "    if examples[\"general\"] == 'Linguistics':\n",
    "        label = 0\n",
    "    else: \n",
    "        label = 1\n",
    "    return {\"labels\": label}"
   ]
  },
  {
   "cell_type": "code",
   "execution_count": 6,
   "id": "e2ce22d2",
   "metadata": {},
   "outputs": [],
   "source": [
    "def etiquetas(examples):\n",
    "    if examples [\"general\"] == 'applied science':\n",
    "        label = 0\n",
    "    elif examples [\"general\"] == 'natural sciences':\n",
    "        label = 1\n",
    "    elif examples [\"general\"] == 'math':\n",
    "        label = 2\n",
    "    elif examples [\"general\"] == 'social sciences ':\n",
    "        label = 3\n",
    "    elif examples [\"general\"] == 'srt':\n",
    "        label = 4\n",
    "    elif examples [\"general\"] == 'linguistics':\n",
    "        label = 5\n",
    "    else:\n",
    "        label = 6\n",
    "    return {\"labels\": label}"
   ]
  },
  {
   "cell_type": "code",
   "execution_count": 7,
   "id": "d580f6fb",
   "metadata": {
    "scrolled": false
   },
   "outputs": [
    {
     "name": "stderr",
     "output_type": "stream",
     "text": [
      "Loading cached processed dataset at C:\\Users\\anabe\\.cache\\huggingface\\datasets\\csv\\default-c2dc502b58cbcb80\\0.0.0\\433e0ccc46f9880962cc2b12065189766fbb2bee57a221866138fb9203c83519\\cache-f5c31b239303e642.arrow\n",
      "Loading cached processed dataset at C:\\Users\\anabe\\.cache\\huggingface\\datasets\\csv\\default-c2dc502b58cbcb80\\0.0.0\\433e0ccc46f9880962cc2b12065189766fbb2bee57a221866138fb9203c83519\\cache-c2d28f8c6e2d3da0.arrow\n"
     ]
    }
   ],
   "source": [
    "dataset = datasets.map(etiquetas)"
   ]
  },
  {
   "cell_type": "code",
   "execution_count": 8,
   "id": "2b8e9746",
   "metadata": {},
   "outputs": [
    {
     "data": {
      "text/plain": [
       "DatasetDict({\n",
       "    train: Dataset({\n",
       "        features: ['name', 'general', 'descrip', 'labels'],\n",
       "        num_rows: 2496\n",
       "    })\n",
       "    test: Dataset({\n",
       "        features: ['name', 'general', 'descrip', 'labels'],\n",
       "        num_rows: 625\n",
       "    })\n",
       "})"
      ]
     },
     "execution_count": 8,
     "metadata": {},
     "output_type": "execute_result"
    }
   ],
   "source": [
    "dataset"
   ]
  },
  {
   "cell_type": "code",
   "execution_count": 9,
   "id": "ab50f772",
   "metadata": {},
   "outputs": [
    {
     "data": {
      "text/plain": [
       "{'name': 'Ananas Language Exchange',\n",
       " 'general': 'linguistics',\n",
       " 'descrip': 'The language app for today. Learn and exchange languages. Think global, be local.',\n",
       " 'labels': 5}"
      ]
     },
     "execution_count": 9,
     "metadata": {},
     "output_type": "execute_result"
    }
   ],
   "source": [
    "dataset['train'][5]"
   ]
  },
  {
   "cell_type": "markdown",
   "id": "b8744d57",
   "metadata": {},
   "source": [
    "## Tokenizacion DataSet"
   ]
  },
  {
   "cell_type": "code",
   "execution_count": 10,
   "id": "5f88922c",
   "metadata": {},
   "outputs": [],
   "source": [
    "model_checkpoint = \"bert-base-cased\""
   ]
  },
  {
   "cell_type": "code",
   "execution_count": 11,
   "id": "1d380522",
   "metadata": {},
   "outputs": [],
   "source": [
    "from transformers import AutoTokenizer\n",
    "tokenizer = AutoTokenizer.from_pretrained(model_checkpoint)\n",
    "#, use_fast=False"
   ]
  },
  {
   "cell_type": "code",
   "execution_count": 12,
   "id": "c402fead",
   "metadata": {},
   "outputs": [],
   "source": [
    "#Vamos a pasar el tokenizador en cada fila del dataset\n",
    "def tokenize_reviews(examples):\n",
    "    return tokenizer(examples[\"descrip\"], padding=True, truncation=True)"
   ]
  },
  {
   "cell_type": "code",
   "execution_count": 13,
   "id": "2ab4ad6e",
   "metadata": {},
   "outputs": [
    {
     "data": {
      "text/plain": [
       "str"
      ]
     },
     "execution_count": 13,
     "metadata": {},
     "output_type": "execute_result"
    }
   ],
   "source": [
    "type(dataset['train']['descrip'][0])"
   ]
  },
  {
   "cell_type": "code",
   "execution_count": 14,
   "id": "7f7245ea",
   "metadata": {
    "scrolled": true
   },
   "outputs": [
    {
     "name": "stderr",
     "output_type": "stream",
     "text": [
      "Loading cached processed dataset at C:\\Users\\anabe\\.cache\\huggingface\\datasets\\csv\\default-c2dc502b58cbcb80\\0.0.0\\433e0ccc46f9880962cc2b12065189766fbb2bee57a221866138fb9203c83519\\cache-1fbc810960fe656a.arrow\n"
     ]
    },
    {
     "data": {
      "application/vnd.jupyter.widget-view+json": {
       "model_id": "b2d2f7871ae346959aafbf36dbcb9c2e",
       "version_major": 2,
       "version_minor": 0
      },
      "text/plain": [
       "  0%|          | 0/1 [00:00<?, ?ba/s]"
      ]
     },
     "metadata": {},
     "output_type": "display_data"
    }
   ],
   "source": [
    "encoded_dataset = dataset.map(tokenize_reviews, batched=True )"
   ]
  },
  {
   "cell_type": "code",
   "execution_count": 15,
   "id": "f67fc13f",
   "metadata": {},
   "outputs": [
    {
     "data": {
      "text/plain": [
       "28996"
      ]
     },
     "execution_count": 15,
     "metadata": {},
     "output_type": "execute_result"
    }
   ],
   "source": [
    "tokenizer.vocab_size"
   ]
  },
  {
   "cell_type": "markdown",
   "id": "9c2afe39",
   "metadata": {},
   "source": [
    "## Cargar el modelo preentrenado"
   ]
  },
  {
   "cell_type": "code",
   "execution_count": 16,
   "id": "e2c5fe62",
   "metadata": {
    "scrolled": false
   },
   "outputs": [
    {
     "name": "stderr",
     "output_type": "stream",
     "text": [
      "Some weights of the model checkpoint at bert-base-cased were not used when initializing BertForSequenceClassification: ['cls.seq_relationship.weight', 'cls.predictions.transform.dense.weight', 'cls.predictions.transform.LayerNorm.weight', 'cls.seq_relationship.bias', 'cls.predictions.decoder.weight', 'cls.predictions.transform.dense.bias', 'cls.predictions.bias', 'cls.predictions.transform.LayerNorm.bias']\n",
      "- This IS expected if you are initializing BertForSequenceClassification from the checkpoint of a model trained on another task or with another architecture (e.g. initializing a BertForSequenceClassification model from a BertForPreTraining model).\n",
      "- This IS NOT expected if you are initializing BertForSequenceClassification from the checkpoint of a model that you expect to be exactly identical (initializing a BertForSequenceClassification model from a BertForSequenceClassification model).\n",
      "Some weights of BertForSequenceClassification were not initialized from the model checkpoint at bert-base-cased and are newly initialized: ['classifier.weight', 'classifier.bias']\n",
      "You should probably TRAIN this model on a down-stream task to be able to use it for predictions and inference.\n"
     ]
    }
   ],
   "source": [
    "from transformers import AutoModelForSequenceClassification\n",
    "\n",
    "num_labels = 7\n",
    "model = AutoModelForSequenceClassification.from_pretrained(model_checkpoint, num_labels=num_labels).to(device)"
   ]
  },
  {
   "cell_type": "code",
   "execution_count": 17,
   "id": "ca70fa19",
   "metadata": {},
   "outputs": [
    {
     "data": {
      "text/plain": [
       "{'name': Value(dtype='string', id=None),\n",
       " 'general': Value(dtype='string', id=None),\n",
       " 'descrip': Value(dtype='string', id=None),\n",
       " 'labels': Value(dtype='int64', id=None),\n",
       " 'input_ids': Sequence(feature=Value(dtype='int32', id=None), length=-1, id=None),\n",
       " 'token_type_ids': Sequence(feature=Value(dtype='int8', id=None), length=-1, id=None),\n",
       " 'attention_mask': Sequence(feature=Value(dtype='int8', id=None), length=-1, id=None)}"
      ]
     },
     "execution_count": 17,
     "metadata": {},
     "output_type": "execute_result"
    }
   ],
   "source": [
    "encoded_dataset['train'].features\n",
    "#encoded_dataset"
   ]
  },
  {
   "cell_type": "code",
   "execution_count": 18,
   "id": "8ad13345",
   "metadata": {},
   "outputs": [
    {
     "data": {
      "text/plain": [
       "{'name': Value(dtype='string', id=None),\n",
       " 'general': Value(dtype='string', id=None),\n",
       " 'descrip': Value(dtype='string', id=None),\n",
       " 'labels': Value(dtype='int64', id=None),\n",
       " 'input_ids': Sequence(feature=Value(dtype='int32', id=None), length=-1, id=None),\n",
       " 'token_type_ids': Sequence(feature=Value(dtype='int8', id=None), length=-1, id=None),\n",
       " 'attention_mask': Sequence(feature=Value(dtype='int8', id=None), length=-1, id=None)}"
      ]
     },
     "execution_count": 18,
     "metadata": {},
     "output_type": "execute_result"
    }
   ],
   "source": [
    "encoded_dataset.set_format(\"torch\", columns=['input_ids','attention_mask','labels'])\n",
    "encoded_dataset['train'].features"
   ]
  },
  {
   "cell_type": "code",
   "execution_count": 19,
   "id": "6afd7c22",
   "metadata": {},
   "outputs": [
    {
     "data": {
      "text/plain": [
       "DatasetDict({\n",
       "    train: Dataset({\n",
       "        features: ['name', 'general', 'descrip', 'labels', 'input_ids', 'token_type_ids', 'attention_mask'],\n",
       "        num_rows: 2496\n",
       "    })\n",
       "    test: Dataset({\n",
       "        features: ['name', 'general', 'descrip', 'labels', 'input_ids', 'token_type_ids', 'attention_mask'],\n",
       "        num_rows: 625\n",
       "    })\n",
       "})"
      ]
     },
     "execution_count": 19,
     "metadata": {},
     "output_type": "execute_result"
    }
   ],
   "source": [
    "encoded_dataset"
   ]
  },
  {
   "cell_type": "code",
   "execution_count": 20,
   "id": "734b25ff",
   "metadata": {},
   "outputs": [],
   "source": [
    "from sklearn.metrics import accuracy_score, f1_score\n",
    "\n",
    "def compute_metrics(eval_pred):\n",
    "    labels = eval_pred.label_ids\n",
    "    preds = eval_pred.predictions.argmax(-1)\n",
    "    f1 = f1_score(labels, preds, average=\"weighted\")\n",
    "    acc = accuracy_score(labels, preds)\n",
    "    return {\"accuracy\": acc, \"f1\": f1}"
   ]
  },
  {
   "cell_type": "code",
   "execution_count": 21,
   "id": "24316dc9",
   "metadata": {},
   "outputs": [
    {
     "name": "stderr",
     "output_type": "stream",
     "text": [
      "Loading cached shuffled indices for dataset at C:\\Users\\anabe\\.cache\\huggingface\\datasets\\csv\\default-c2dc502b58cbcb80\\0.0.0\\433e0ccc46f9880962cc2b12065189766fbb2bee57a221866138fb9203c83519\\cache-dc7a5a2f5cdbbe39.arrow\n"
     ]
    }
   ],
   "source": [
    "from transformers import TrainingArguments\n",
    "\n",
    "model_name = model_checkpoint.split(\"/\")[-1]\n",
    "\n",
    "batch_size = 64\n",
    "num_train_epochs=4\n",
    "num_train_samples = 2_000\n",
    "train_dataset = encoded_dataset[\"train\"].shuffle(seed=42).select(range(num_train_samples))\n",
    "#train_dataset = encoded_dataset[\"train\"]\n",
    "\n",
    "#logging_steps = len(encoded_dataset['train'])//batch_size\n",
    "logging_steps = len(train_dataset) // (2 * batch_size * num_train_epochs)\n",
    "\n",
    "training_args = TrainingArguments(\n",
    "    output_dir=\"25sep\",\n",
    "    num_train_epochs=num_train_epochs,     \n",
    "    learning_rate=2e-5,\n",
    "    per_device_train_batch_size=batch_size,\n",
    "    per_device_eval_batch_size=batch_size,\n",
    "    load_best_model_at_end=True,\n",
    "    metric_for_best_model=\"f1\",\n",
    "    weight_decay=0.01,\n",
    "    evaluation_strategy=\"epoch\",\n",
    "    save_strategy=\"epoch\", \n",
    "    logging_steps=logging_steps,\n",
    "    #push_to_hub=True,\n",
    "    #push_to_hub_model_id=f\"{model_name}-finetuned-wiki_multi\"\n",
    ")"
   ]
  },
  {
   "cell_type": "code",
   "execution_count": 22,
   "id": "0adff1f8",
   "metadata": {},
   "outputs": [],
   "source": [
    "from transformers import Trainer\n",
    "\n",
    "trainer = Trainer(\n",
    "    model=model, \n",
    "    args=training_args, \n",
    "    compute_metrics=compute_metrics,\n",
    "    train_dataset=train_dataset,\n",
    "    eval_dataset=encoded_dataset[\"test\"],\n",
    "    tokenizer=tokenizer\n",
    ")"
   ]
  },
  {
   "cell_type": "code",
   "execution_count": 23,
   "id": "e0e8c369",
   "metadata": {
    "scrolled": true
   },
   "outputs": [
    {
     "name": "stderr",
     "output_type": "stream",
     "text": [
      "The following columns in the training set  don't have a corresponding argument in `BertForSequenceClassification.forward` and have been ignored: general, descrip, name. If general, descrip, name are not expected by `BertForSequenceClassification.forward`,  you can safely ignore this message.\n",
      "C:\\Users\\anabe\\anaconda3\\lib\\site-packages\\transformers\\optimization.py:306: FutureWarning: This implementation of AdamW is deprecated and will be removed in a future version. Use the PyTorch implementation torch.optim.AdamW instead, or set `no_deprecation_warning=True` to disable this warning\n",
      "  warnings.warn(\n",
      "***** Running training *****\n",
      "  Num examples = 2000\n",
      "  Num Epochs = 4\n",
      "  Instantaneous batch size per device = 64\n",
      "  Total train batch size (w. parallel, distributed & accumulation) = 64\n",
      "  Gradient Accumulation steps = 1\n",
      "  Total optimization steps = 128\n"
     ]
    },
    {
     "data": {
      "text/html": [
       "\n",
       "    <div>\n",
       "      \n",
       "      <progress value='128' max='128' style='width:300px; height:20px; vertical-align: middle;'></progress>\n",
       "      [128/128 3:13:19, Epoch 4/4]\n",
       "    </div>\n",
       "    <table border=\"1\" class=\"dataframe\">\n",
       "  <thead>\n",
       " <tr style=\"text-align: left;\">\n",
       "      <th>Epoch</th>\n",
       "      <th>Training Loss</th>\n",
       "      <th>Validation Loss</th>\n",
       "      <th>Accuracy</th>\n",
       "      <th>F1</th>\n",
       "    </tr>\n",
       "  </thead>\n",
       "  <tbody>\n",
       "    <tr>\n",
       "      <td>1</td>\n",
       "      <td>1.275100</td>\n",
       "      <td>1.175310</td>\n",
       "      <td>0.636800</td>\n",
       "      <td>0.521033</td>\n",
       "    </tr>\n",
       "    <tr>\n",
       "      <td>2</td>\n",
       "      <td>0.755400</td>\n",
       "      <td>0.788612</td>\n",
       "      <td>0.771200</td>\n",
       "      <td>0.735803</td>\n",
       "    </tr>\n",
       "    <tr>\n",
       "      <td>3</td>\n",
       "      <td>0.582900</td>\n",
       "      <td>0.655491</td>\n",
       "      <td>0.793600</td>\n",
       "      <td>0.762064</td>\n",
       "    </tr>\n",
       "    <tr>\n",
       "      <td>4</td>\n",
       "      <td>0.561300</td>\n",
       "      <td>0.631481</td>\n",
       "      <td>0.801600</td>\n",
       "      <td>0.775667</td>\n",
       "    </tr>\n",
       "  </tbody>\n",
       "</table><p>"
      ],
      "text/plain": [
       "<IPython.core.display.HTML object>"
      ]
     },
     "metadata": {},
     "output_type": "display_data"
    },
    {
     "name": "stderr",
     "output_type": "stream",
     "text": [
      "The following columns in the evaluation set  don't have a corresponding argument in `BertForSequenceClassification.forward` and have been ignored: general, descrip, name. If general, descrip, name are not expected by `BertForSequenceClassification.forward`,  you can safely ignore this message.\n",
      "***** Running Evaluation *****\n",
      "  Num examples = 625\n",
      "  Batch size = 64\n",
      "Saving model checkpoint to 25sep\\checkpoint-32\n",
      "Configuration saved in 25sep\\checkpoint-32\\config.json\n",
      "Model weights saved in 25sep\\checkpoint-32\\pytorch_model.bin\n",
      "tokenizer config file saved in 25sep\\checkpoint-32\\tokenizer_config.json\n",
      "Special tokens file saved in 25sep\\checkpoint-32\\special_tokens_map.json\n",
      "The following columns in the evaluation set  don't have a corresponding argument in `BertForSequenceClassification.forward` and have been ignored: general, descrip, name. If general, descrip, name are not expected by `BertForSequenceClassification.forward`,  you can safely ignore this message.\n",
      "***** Running Evaluation *****\n",
      "  Num examples = 625\n",
      "  Batch size = 64\n",
      "Saving model checkpoint to 25sep\\checkpoint-64\n",
      "Configuration saved in 25sep\\checkpoint-64\\config.json\n",
      "Model weights saved in 25sep\\checkpoint-64\\pytorch_model.bin\n",
      "tokenizer config file saved in 25sep\\checkpoint-64\\tokenizer_config.json\n",
      "Special tokens file saved in 25sep\\checkpoint-64\\special_tokens_map.json\n",
      "The following columns in the evaluation set  don't have a corresponding argument in `BertForSequenceClassification.forward` and have been ignored: general, descrip, name. If general, descrip, name are not expected by `BertForSequenceClassification.forward`,  you can safely ignore this message.\n",
      "***** Running Evaluation *****\n",
      "  Num examples = 625\n",
      "  Batch size = 64\n",
      "Saving model checkpoint to 25sep\\checkpoint-96\n",
      "Configuration saved in 25sep\\checkpoint-96\\config.json\n",
      "Model weights saved in 25sep\\checkpoint-96\\pytorch_model.bin\n",
      "tokenizer config file saved in 25sep\\checkpoint-96\\tokenizer_config.json\n",
      "Special tokens file saved in 25sep\\checkpoint-96\\special_tokens_map.json\n",
      "The following columns in the evaluation set  don't have a corresponding argument in `BertForSequenceClassification.forward` and have been ignored: general, descrip, name. If general, descrip, name are not expected by `BertForSequenceClassification.forward`,  you can safely ignore this message.\n",
      "***** Running Evaluation *****\n",
      "  Num examples = 625\n",
      "  Batch size = 64\n",
      "Saving model checkpoint to 25sep\\checkpoint-128\n",
      "Configuration saved in 25sep\\checkpoint-128\\config.json\n",
      "Model weights saved in 25sep\\checkpoint-128\\pytorch_model.bin\n",
      "tokenizer config file saved in 25sep\\checkpoint-128\\tokenizer_config.json\n",
      "Special tokens file saved in 25sep\\checkpoint-128\\special_tokens_map.json\n",
      "\n",
      "\n",
      "Training completed. Do not forget to share your model on huggingface.co/models =)\n",
      "\n",
      "\n",
      "Loading best model from 25sep\\checkpoint-128 (score: 0.7756665722555697).\n"
     ]
    },
    {
     "data": {
      "text/plain": [
       "TrainOutput(global_step=128, training_loss=0.9046804341487586, metrics={'train_runtime': 11756.8732, 'train_samples_per_second': 0.68, 'train_steps_per_second': 0.011, 'total_flos': 1303280451600000.0, 'train_loss': 0.9046804341487586, 'epoch': 4.0})"
      ]
     },
     "execution_count": 23,
     "metadata": {},
     "output_type": "execute_result"
    }
   ],
   "source": [
    "trainer.train()"
   ]
  },
  {
   "cell_type": "code",
   "execution_count": null,
   "id": "23f35347",
   "metadata": {},
   "outputs": [],
   "source": []
  }
 ],
 "metadata": {
  "kernelspec": {
   "display_name": "Python 3 (ipykernel)",
   "language": "python",
   "name": "python3"
  },
  "language_info": {
   "codemirror_mode": {
    "name": "ipython",
    "version": 3
   },
   "file_extension": ".py",
   "mimetype": "text/x-python",
   "name": "python",
   "nbconvert_exporter": "python",
   "pygments_lexer": "ipython3",
   "version": "3.9.7"
  }
 },
 "nbformat": 4,
 "nbformat_minor": 5
}
